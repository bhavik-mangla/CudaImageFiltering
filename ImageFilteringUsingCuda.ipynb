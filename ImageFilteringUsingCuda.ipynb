{
  "nbformat": 4,
  "nbformat_minor": 0,
  "metadata": {
    "colab": {
      "provenance": [],
      "gpuType": "T4",
      "authorship_tag": "ABX9TyN6fX1S8aAr42P6KGVKaBct",
      "include_colab_link": true
    },
    "kernelspec": {
      "name": "python3",
      "display_name": "Python 3"
    },
    "language_info": {
      "name": "python"
    },
    "accelerator": "GPU"
  },
  "cells": [
    {
      "cell_type": "markdown",
      "metadata": {
        "id": "view-in-github",
        "colab_type": "text"
      },
      "source": [
        "<a href=\"https://colab.research.google.com/github/bhavik-mangla/CudaImageFiltering/blob/main/ImageFilteringUsingCuda.ipynb\" target=\"_parent\"><img src=\"https://colab.research.google.com/assets/colab-badge.svg\" alt=\"Open In Colab\"/></a>"
      ]
    },
    {
      "cell_type": "code",
      "execution_count": 1,
      "metadata": {
        "colab": {
          "base_uri": "https://localhost:8080/"
        },
        "id": "X0XhmrPgWJ_x",
        "outputId": "f20eb852-f2d9-435e-b3d1-a832d3e62219"
      },
      "outputs": [
        {
          "output_type": "stream",
          "name": "stdout",
          "text": [
            "nvcc: NVIDIA (R) Cuda compiler driver\n",
            "Copyright (c) 2005-2023 NVIDIA Corporation\n",
            "Built on Tue_Aug_15_22:02:13_PDT_2023\n",
            "Cuda compilation tools, release 12.2, V12.2.140\n",
            "Build cuda_12.2.r12.2/compiler.33191640_0\n"
          ]
        }
      ],
      "source": [
        "!nvcc --version"
      ]
    },
    {
      "cell_type": "code",
      "source": [
        "!pip install git+https://github.com/andreinechaev/nvcc4jupyter.git\n"
      ],
      "metadata": {
        "colab": {
          "base_uri": "https://localhost:8080/"
        },
        "id": "MammyXuaWPvk",
        "outputId": "491ac629-728f-4dfa-afb1-0a0c2ebde971"
      },
      "execution_count": 2,
      "outputs": [
        {
          "output_type": "stream",
          "name": "stdout",
          "text": [
            "Collecting git+https://github.com/andreinechaev/nvcc4jupyter.git\n",
            "  Cloning https://github.com/andreinechaev/nvcc4jupyter.git to /tmp/pip-req-build-e5vxpgkd\n",
            "  Running command git clone --filter=blob:none --quiet https://github.com/andreinechaev/nvcc4jupyter.git /tmp/pip-req-build-e5vxpgkd\n",
            "  Resolved https://github.com/andreinechaev/nvcc4jupyter.git to commit 4664a4ef472c35ed55ab1a53c458aa48e6f9919d\n",
            "  Installing build dependencies ... \u001b[?25l\u001b[?25hdone\n",
            "  Getting requirements to build wheel ... \u001b[?25l\u001b[?25hdone\n",
            "  Preparing metadata (pyproject.toml) ... \u001b[?25l\u001b[?25hdone\n",
            "Building wheels for collected packages: nvcc4jupyter\n",
            "  Building wheel for nvcc4jupyter (pyproject.toml) ... \u001b[?25l\u001b[?25hdone\n",
            "  Created wheel for nvcc4jupyter: filename=nvcc4jupyter-1.2.0-py3-none-any.whl size=9547 sha256=15f657626f5c8a90f3e88c756de6b1b0dae55f253bb213026a351a0a360edb8c\n",
            "  Stored in directory: /tmp/pip-ephem-wheel-cache-k5vvpa2_/wheels/a8/b9/18/23f8ef71ceb0f63297dd1903aedd067e6243a68ea756d6feea\n",
            "Successfully built nvcc4jupyter\n",
            "Installing collected packages: nvcc4jupyter\n",
            "Successfully installed nvcc4jupyter-1.2.0\n"
          ]
        }
      ]
    },
    {
      "cell_type": "code",
      "source": [],
      "metadata": {
        "id": "5sfpls2lWicL"
      },
      "execution_count": null,
      "outputs": []
    },
    {
      "cell_type": "code",
      "source": [
        "%load_ext nvcc4jupyter\n"
      ],
      "metadata": {
        "colab": {
          "base_uri": "https://localhost:8080/"
        },
        "id": "mESqtVZ0WSe1",
        "outputId": "556d8bc4-c698-4630-c5ae-157aefae4efe"
      },
      "execution_count": 4,
      "outputs": [
        {
          "output_type": "stream",
          "name": "stdout",
          "text": [
            "Source files will be saved in \"/tmp/tmpnhud14h8\".\n"
          ]
        }
      ]
    },
    {
      "cell_type": "code",
      "source": [
        "\n",
        "%%cuda --name testGoogleColab.cu\n",
        "\n",
        "#include <stdio.h>\n",
        "\n",
        "#define gpuErrchk(ans) { gpuAssert((ans), __FILE__, __LINE__); }\n",
        "inline void gpuAssert(cudaError_t code, const char* file, int line, bool abort = true)\n",
        "{\n",
        "    if (code != cudaSuccess)\n",
        "    {\n",
        "        fprintf(stderr, \"GPUassert: %s %s %d\\n\", cudaGetErrorString(code), file, line);\n",
        "        if (abort) exit(code);\n",
        "    }\n",
        "}\n",
        "\n",
        "__global__ void add(int a, int b, int *c) {\n",
        "   *c = a + b; }\n",
        "\n",
        "int main() {\n",
        "\n",
        "   // --- Host declarations and initializations\n",
        "   int a, b, c;\n",
        "   a = 2;\n",
        "   b = 6;\n",
        "\n",
        "   // --- Device allocations\n",
        "   int *d_c; gpuErrchk(cudaMalloc(&d_c, sizeof(int)));\n",
        "\n",
        "   // --- Kernel execution\n",
        "   add<<<1,1>>>(a, b, d_c);\n",
        "   gpuErrchk(cudaPeekAtLastError());\n",
        "   gpuErrchk(cudaDeviceSynchronize());\n",
        "\n",
        "   // --- Moving the results from device to host\n",
        "   gpuErrchk(cudaMemcpy(&c, d_c, sizeof(int), cudaMemcpyDeviceToHost));\n",
        "\n",
        "   // --- Results printout\n",
        "   printf(\"%d + %d is %d\\n\", a, b, c);\n",
        "\n",
        "   return 0; }"
      ],
      "metadata": {
        "colab": {
          "base_uri": "https://localhost:8080/"
        },
        "id": "NMT6tgJzWrIr",
        "outputId": "b4f6cfe8-bf3c-4b99-bf28-90c86add0702"
      },
      "execution_count": 5,
      "outputs": [
        {
          "output_type": "stream",
          "name": "stdout",
          "text": [
            "usage: colab_kernel_launcher.py [-h] [-t] [-p] [-l PROFILER] [-a PROFILER_ARGS] [-c COMPILER_ARGS]\n",
            "\n",
            "%%cuda magic that compiles and runs CUDA C++ code in this cell. See\n",
            "https://nvcc4jupyter.readthedocs.io/en/latest/magics.html#cuda for usage details.\n",
            "\n",
            "options:\n",
            "  -h, --help            show this help message and exit\n",
            "  -t, --timeit\n",
            "  -p, --profile\n",
            "  -l PROFILER, --profiler PROFILER\n",
            "  -a PROFILER_ARGS, --profiler-args PROFILER_ARGS\n",
            "  -c COMPILER_ARGS, --compiler-args COMPILER_ARGS\n"
          ]
        },
        {
          "output_type": "stream",
          "name": "stderr",
          "text": [
            "usage: colab_kernel_launcher.py [-h] [-t] [-p] [-l PROFILER] [-a PROFILER_ARGS] [-c COMPILER_ARGS]\n",
            "colab_kernel_launcher.py: error: unrecognized arguments: --name testGoogleColab.cu\n"
          ]
        }
      ]
    },
    {
      "cell_type": "code",
      "source": [
        "%%writefile laplacian.cu\n",
        "#include <stdio.h>\n",
        "#include <opencv2/core/core.hpp> // Include core functionalities\n",
        "#include <opencv2/imgcodecs.hpp> // For imread and imwrite\n",
        "#include <opencv2/highgui/highgui.hpp> // For GUI functionalities, might not be necessary for this script\n",
        "\n",
        "using namespace cv; // Use the cv namespace to simplify code\n",
        "\n",
        "__global__ void boxFilter(unsigned char *srcImage, unsigned char *dstImage, unsigned int width, unsigned int height, int channel)\n",
        "{\n",
        "   int x = blockIdx.x*blockDim.x + threadIdx.x;\n",
        "   int y = blockIdx.y*blockDim.y + threadIdx.y;\n",
        "\n",
        "   // only threads inside image will write results\n",
        "   if((x>=3/2) && (x<(width-3/2)) && (y>=3/2) && (y<(height-3/2)))\n",
        "   {\n",
        "      for(int c=0 ; c<channel ; c++)\n",
        "      {\n",
        "         // Sum of pixel values\n",
        "         float sum = 0;\n",
        "         // Number of filter pixels\n",
        "         float kS = 0;\n",
        "         // Loop inside the filter to average pixel values\n",
        "         for(int ky=-3/2; ky<=3/2; ky++) {\n",
        "            for(int kx=-3/2; kx<=3/2; kx++) {\n",
        "               float fl = srcImage[((y+ky)*width + (x+kx))*channel+c];\n",
        "               sum += fl;\n",
        "               kS += 1;\n",
        "            }\n",
        "         }\n",
        "         dstImage[(y*width+x)*channel+c] =  sum / kS;\n",
        "      }\n",
        "   }\n",
        "}\n",
        "\n",
        "__global__ void sharpeningFilter(unsigned char *srcImage, unsigned char *dstImage, unsigned int width, unsigned int height, int channel)\n",
        "{\n",
        "   int x = blockIdx.x*blockDim.x + threadIdx.x;\n",
        "   int y = blockIdx.y*blockDim.y + threadIdx.y;\n",
        "\n",
        "   float kernel[3][3] = {-1, -1, -1, -1, 9, -1, -1, -1, -1};\n",
        "   // only threads inside image will write results\n",
        "   if((x>=3/2) && (x<(width-3/2)) && (y>=3/2) && (y<(height-3/2)))\n",
        "   {\n",
        "      for(int c=0 ; c<channel ; c++)\n",
        "      {\n",
        "         // Sum of pixel values\n",
        "         float sum = 0;\n",
        "         // Loop inside the filter to average pixel values\n",
        "         for(int ky=-3/2; ky<=3/2; ky++) {\n",
        "            for(int kx=-3/2; kx<=3/2; kx++) {\n",
        "               float fl = srcImage[((y+ky)*width + (x+kx))*channel+c];\n",
        "               sum += fl*kernel[ky+3/2][kx+3/2];\n",
        "            }\n",
        "         }\n",
        "         dstImage[(y*width+x)*channel+c] =  sum;\n",
        "      }\n",
        "   }\n",
        "}\n",
        "\n",
        "void checkCudaErrors(cudaError_t r) {\n",
        "    if (r != cudaSuccess) {\n",
        "        fprintf(stderr, \"CUDA Error: %s\\n\", cudaGetErrorString(r));\n",
        "        exit(EXIT_FAILURE);\n",
        "    }\n",
        "}\n",
        "\n",
        "int main() {\n",
        "    Mat image = imread(\"images.jpeg\", IMREAD_GRAYSCALE);\n",
        "    if (image.empty()) {\n",
        "        printf(\"Error: Image not found.\\n\");\n",
        "        return -1;\n",
        "    }\n",
        "    int width = image.cols;\n",
        "    int height = image.rows;\n",
        "    int channel=image.step/image.cols;\n",
        "    size_t imageSize = width * height * sizeof(unsigned char);\n",
        "\n",
        "    unsigned char *h_outputImage = (unsigned char *)malloc(imageSize);\n",
        "    if (h_outputImage == nullptr) {\n",
        "        fprintf(stderr, \"Failed to allocate host memory\\n\");\n",
        "        return -1;\n",
        "    }\n",
        "\n",
        "    unsigned char *d_inputImage, *d_outputImage;\n",
        "    checkCudaErrors(cudaMalloc(&d_inputImage, imageSize));\n",
        "    checkCudaErrors(cudaMalloc(&d_outputImage, imageSize));\n",
        "    checkCudaErrors(cudaMemcpy(d_inputImage, image.data, imageSize, cudaMemcpyHostToDevice));\n",
        "\n",
        "    dim3 blockSize(16, 16);\n",
        "    dim3 gridSize(ceil(width/16.0),ceil(height/16.0));\n",
        "    boxFilter<<<gridSize,blockSize>>>(d_inputImage,d_outputImage,width,height,channel);\n",
        "    sharpeningFilter<<<gridSize,blockSize>>>(d_outputImage,d_inputImage,width,height,channel);\n",
        "    checkCudaErrors(cudaMemcpy(h_outputImage, d_inputImage, imageSize, cudaMemcpyDeviceToHost));\n",
        "\n",
        "    Mat outputImage(height, width, CV_8UC1, h_outputImage);\n",
        "    imwrite(\"output.jpeg\", outputImage);\n",
        "\n",
        "    free(h_outputImage);\n",
        "    cudaFree(d_inputImage);\n",
        "    cudaFree(d_outputImage);\n",
        "\n",
        "    return 0;\n",
        "}"
      ],
      "metadata": {
        "colab": {
          "base_uri": "https://localhost:8080/"
        },
        "id": "lxvtVveIWvD9",
        "outputId": "bf778eae-94b1-477e-d53c-c14a404fc84e"
      },
      "execution_count": 4,
      "outputs": [
        {
          "output_type": "stream",
          "name": "stdout",
          "text": [
            "Overwriting laplacian.cu\n"
          ]
        }
      ]
    },
    {
      "cell_type": "code",
      "source": [
        "!nvcc -o laplacian laplacian.cu `pkg-config --cflags --libs opencv4`"
      ],
      "metadata": {
        "id": "LS9I0jG9XAbK"
      },
      "execution_count": 5,
      "outputs": []
    },
    {
      "cell_type": "code",
      "source": [
        "!./laplacian"
      ],
      "metadata": {
        "id": "4YiyHj7EXV3y"
      },
      "execution_count": 6,
      "outputs": []
    },
    {
      "cell_type": "code",
      "source": [
        "%%writefile sobelEdgeDetectionFilter.cu\n",
        "#include <stdio.h>\n",
        "#include <opencv2/core/core.hpp> // Include core functionalities\n",
        "#include <opencv2/imgcodecs.hpp> // For imread and imwrite\n",
        "#include <opencv2/highgui/highgui.hpp> // For GUI functionalities, might not be necessary for this script\n",
        "\n",
        "using namespace cv; // Use the cv namespace to simplify code\n",
        "\n",
        "__global__ void sobelFilter(unsigned char *srcImage, unsigned char *dstImage, unsigned int width, unsigned int height)\n",
        "{\n",
        "   int x = blockIdx.x*blockDim.x + threadIdx.x;\n",
        "   int y = blockIdx.y*blockDim.y + threadIdx.y;\n",
        "\n",
        "   float Kx[3][3] = {-1, 0, 1, -2, 0, 2, -1, 0, 1};\n",
        "   float Ky[3][3] = {1, 2, 1, 0, 0, 0, -1, -2, -1};\n",
        "\n",
        "   // only threads inside image will write results\n",
        "   if((x>=3/2) && (x<(width-3/2)) && (y>=3/2) && (y<(height-3/2)))\n",
        "   {\n",
        "         // Gradient in x-direction\n",
        "         float Gx = 0;\n",
        "         // Loop inside the filter to average pixel values\n",
        "         for(int ky=-3/2; ky<=3/2; ky++) {\n",
        "            for(int kx=-3/2; kx<=3/2; kx++) {\n",
        "               float fl = srcImage[((y+ky)*width + (x+kx))];\n",
        "               Gx += fl*Kx[ky+3/2][kx+3/2];\n",
        "            }\n",
        "         }\n",
        "         float Gx_abs = Gx < 0 ? -Gx : Gx;\n",
        "\n",
        "         // Gradient in y-direction\n",
        "         float Gy = 0;\n",
        "         // Loop inside the filter to average pixel values\n",
        "         for(int ky=-3/2; ky<=3/2; ky++) {\n",
        "            for(int kx=-3/2; kx<=3/2; kx++) {\n",
        "               float fl = srcImage[((y+ky)*width + (x+kx))];\n",
        "               Gy += fl*Ky[ky+3/2][kx+3/2];\n",
        "            }\n",
        "         }\n",
        "         float Gy_abs = Gy < 0 ? -Gy : Gy;\n",
        "\n",
        "         dstImage[(y*width+x)] =  Gx_abs + Gy_abs;\n",
        "   }\n",
        "}\n",
        "\n",
        "void checkCudaErrors(cudaError_t r) {\n",
        "    if (r != cudaSuccess) {\n",
        "        fprintf(stderr, \"CUDA Error: %s\\n\", cudaGetErrorString(r));\n",
        "        exit(EXIT_FAILURE);\n",
        "    }\n",
        "}\n",
        "\n",
        "int main() {\n",
        "    Mat image = imread(\"images.jpeg\", IMREAD_GRAYSCALE);\n",
        "    if (image.empty()) {\n",
        "        printf(\"Error: Image not found.\\n\");\n",
        "        return -1;\n",
        "    }\n",
        "    int width = image.cols;\n",
        "    int height = image.rows;\n",
        "    size_t imageSize = width * height * sizeof(unsigned char);\n",
        "\n",
        "    unsigned char *h_outputImage = (unsigned char *)malloc(imageSize);\n",
        "    if (h_outputImage == nullptr) {\n",
        "        fprintf(stderr, \"Failed to allocate host memory\\n\");\n",
        "        return -1;\n",
        "    }\n",
        "\n",
        "    unsigned char *d_inputImage, *d_outputImage;\n",
        "    checkCudaErrors(cudaMalloc(&d_inputImage, imageSize));\n",
        "    checkCudaErrors(cudaMalloc(&d_outputImage, imageSize));\n",
        "    checkCudaErrors(cudaMemcpy(d_inputImage, image.data, imageSize, cudaMemcpyHostToDevice));\n",
        "\n",
        "    dim3 blockSize(16, 16);\n",
        "    dim3 gridSize(ceil(width/16.0),ceil(height/16.0));\n",
        "    sobelFilter<<<gridSize,blockSize>>>(d_inputImage,d_outputImage,width,height);\n",
        "    checkCudaErrors(cudaMemcpy(h_outputImage, d_outputImage, imageSize, cudaMemcpyDeviceToHost));\n",
        "\n",
        "    Mat outputImage(height, width, CV_8UC1, h_outputImage);\n",
        "    imwrite(\"output_sobel.jpeg\", outputImage);\n",
        "\n",
        "    free(h_outputImage);\n",
        "    cudaFree(d_inputImage);\n",
        "    cudaFree(d_outputImage);\n",
        "\n",
        "    return 0;\n",
        "}\n"
      ],
      "metadata": {
        "colab": {
          "base_uri": "https://localhost:8080/"
        },
        "id": "m1wiTganYJXa",
        "outputId": "9c5f684e-c461-40b8-e32d-7e78fbd0d34e"
      },
      "execution_count": 7,
      "outputs": [
        {
          "output_type": "stream",
          "name": "stdout",
          "text": [
            "Writing sobelEdgeDetectionFilter.cu\n"
          ]
        }
      ]
    },
    {
      "cell_type": "code",
      "source": [
        "!nvcc -o sobelEdgeDetectionFilter sobelEdgeDetectionFilter.cu `pkg-config --cflags --libs opencv4`"
      ],
      "metadata": {
        "id": "3zL_vkpTYyWk"
      },
      "execution_count": 8,
      "outputs": []
    },
    {
      "cell_type": "code",
      "source": [
        "!./sobelEdgeDetectionFilter"
      ],
      "metadata": {
        "id": "l8lpQNg9ZUxd"
      },
      "execution_count": 9,
      "outputs": []
    },
    {
      "cell_type": "code",
      "source": [
        "%%writefile blur.cu\n",
        "#include <stdio.h>\n",
        "#include <opencv2/core/core.hpp> // Include core functionalities\n",
        "#include <opencv2/imgcodecs.hpp> // For imread and imwrite\n",
        "#include <opencv2/highgui/highgui.hpp> // For GUI functionalities, might not be necessary for this script\n",
        "\n",
        "using namespace cv; // Use the cv namespace to simplify code\n",
        "\n",
        "__global__ void boxFilter(unsigned char *srcImage, unsigned char *dstImage, unsigned int width, unsigned int height, int channel)\n",
        "{\n",
        "    int x = blockIdx.x * blockDim.x + threadIdx.x;\n",
        "    int y = blockIdx.y * blockDim.y + threadIdx.y;\n",
        "\n",
        "    // Define a larger kernel size for increased blur intensity\n",
        "    const int kernelSize = 5;\n",
        "    const int halfKernelSize = kernelSize / 2;\n",
        "\n",
        "    // only threads inside image will write results\n",
        "    if ((x >= halfKernelSize) && (x < width - halfKernelSize) && (y >= halfKernelSize) && (y < height - halfKernelSize))\n",
        "    {\n",
        "        for (int c = 0; c < channel; c++)\n",
        "        {\n",
        "            // Sum of pixel values\n",
        "            float sum = 0;\n",
        "            // Number of filter pixels\n",
        "            float kS = 0;\n",
        "            // Loop inside the filter to average pixel values\n",
        "            for (int ky = -halfKernelSize; ky <= halfKernelSize; ky++)\n",
        "            {\n",
        "                for (int kx = -halfKernelSize; kx <= halfKernelSize; kx++)\n",
        "                {\n",
        "                    float fl = srcImage[((y + ky) * width + (x + kx)) * channel + c];\n",
        "                    sum += fl;\n",
        "                    kS += 1;\n",
        "                }\n",
        "            }\n",
        "            dstImage[(y * width + x) * channel + c] = sum / kS;\n",
        "        }\n",
        "    }\n",
        "}\n",
        "\n",
        "\n",
        "int main()\n",
        "{\n",
        "    Mat image = imread(\"images.jpeg\", IMREAD_COLOR);\n",
        "    if (image.empty())\n",
        "    {\n",
        "        printf(\"Error: Image not found.\\n\");\n",
        "        return -1;\n",
        "    }\n",
        "    int width = image.cols;\n",
        "    int height = image.rows;\n",
        "    int channel = image.channels();\n",
        "    size_t imageSize = width * height * channel * sizeof(unsigned char);\n",
        "\n",
        "    unsigned char *h_outputImage = (unsigned char *)malloc(imageSize);\n",
        "    if (h_outputImage == nullptr)\n",
        "    {\n",
        "        fprintf(stderr, \"Failed to allocate host memory\\n\");\n",
        "        return -1;\n",
        "    }\n",
        "\n",
        "    unsigned char *d_inputImage, *d_outputImage;\n",
        "    cudaMalloc(&d_inputImage, imageSize);\n",
        "    cudaMalloc(&d_outputImage, imageSize);\n",
        "    cudaMemcpy(d_inputImage, image.data, imageSize, cudaMemcpyHostToDevice);\n",
        "\n",
        "    dim3 blockSize(16, 16);\n",
        "    dim3 gridSize((width + blockSize.x - 1) / blockSize.x, (height + blockSize.y - 1) / blockSize.y);\n",
        "    boxFilter<<<gridSize, blockSize>>>(d_inputImage, d_outputImage, width, height, channel);\n",
        "    cudaMemcpy(h_outputImage, d_outputImage, imageSize, cudaMemcpyDeviceToHost);\n",
        "\n",
        "    Mat outputImage(height, width, CV_8UC3, h_outputImage);\n",
        "    imwrite(\"output_blur.jpeg\", outputImage);\n",
        "\n",
        "    free(h_outputImage);\n",
        "    cudaFree(d_inputImage);\n",
        "    cudaFree(d_outputImage);\n",
        "\n",
        "    return 0;\n",
        "}\n"
      ],
      "metadata": {
        "colab": {
          "base_uri": "https://localhost:8080/"
        },
        "id": "P9vpET3aaG4Y",
        "outputId": "029599c1-c2a7-4b17-e6c4-58766b53ed6b"
      },
      "execution_count": 19,
      "outputs": [
        {
          "output_type": "stream",
          "name": "stdout",
          "text": [
            "Overwriting blur.cu\n"
          ]
        }
      ]
    },
    {
      "cell_type": "code",
      "source": [
        "!nvcc -o blur blur.cu `pkg-config --cflags --libs opencv4`"
      ],
      "metadata": {
        "id": "qfPn2DvPdhST"
      },
      "execution_count": 15,
      "outputs": []
    },
    {
      "cell_type": "code",
      "source": [
        "!./blur"
      ],
      "metadata": {
        "id": "-JJ1IBlednhB"
      },
      "execution_count": 16,
      "outputs": []
    },
    {
      "cell_type": "code",
      "source": [
        "%%writefile mosaic.cu\n",
        "\n",
        "#include <stdio.h>\n",
        "#include <opencv2/core/core.hpp> // Include core functionalities\n",
        "#include <opencv2/imgcodecs.hpp> // For imread and imwrite\n",
        "#include <opencv2/highgui/highgui.hpp> // For GUI functionalities, might not be necessary for this script\n",
        "\n",
        "#define MPR 32 // Mosaic pixel radius\n",
        "#define MPR_SQUARE 1024 // Mosaic pixel radius square\n",
        "\n",
        "using namespace cv; // Use the cv namespace to simplify code\n",
        "\n",
        "__global__ void mosaic_filter_ccmpb(uchar3 *image, uchar3 *image_output, float3 *average, int cols, int rows, int c) {\n",
        "    extern __shared__ float3 s_average[];\n",
        "\n",
        "    // mapping the index to position\n",
        "    int x = (threadIdx.x + blockIdx.x * MPR) * c;\n",
        "    int y = (threadIdx.y + blockIdx.y * MPR) * c;\n",
        "    int itx = threadIdx.x + threadIdx.y * MPR;\n",
        "\n",
        "    int m_area;\n",
        "    int mod_cols = cols % c;\n",
        "    int mod_rows = rows % c;\n",
        "\n",
        "    float3 m_average = make_float3(0, 0, 0);\n",
        "\n",
        "    // calculation the size to deal with partial mosaic\n",
        "    mod_cols = (y < cols - mod_cols) ? c : mod_cols;\n",
        "    mod_rows = (x < rows - mod_rows) ? c : mod_rows;\n",
        "    m_area = mod_rows * mod_cols;\n",
        "\n",
        "    // using for loop to sum up the RGB to the register\n",
        "    if (x < rows && y < cols) {\n",
        "        for (int i = 0; i < c; ++i) {\n",
        "            for (int j = 0; j < c; ++j) {\n",
        "                int x_offset = x + i;\n",
        "                int y_offset = y + j;\n",
        "                int offset = x_offset + y_offset * rows;\n",
        "\n",
        "                m_average.x += image[offset].x;\n",
        "                m_average.y += image[offset].y;\n",
        "                m_average.z += image[offset].z;\n",
        "            }\n",
        "        }\n",
        "    }\n",
        "\n",
        "    // do reduction with shared variable\n",
        "    s_average[itx] = m_average;\n",
        "    __syncthreads();\n",
        "\n",
        "    for (int stride = MPR_SQUARE / 2; stride != 0; stride >>= 1) {\n",
        "        if (itx < stride) {\n",
        "            s_average[itx].x += s_average[itx + stride].x;\n",
        "            s_average[itx].y += s_average[itx + stride].y;\n",
        "            s_average[itx].z += s_average[itx + stride].z;\n",
        "        }\n",
        "        __syncthreads();\n",
        "    }\n",
        "\n",
        "    if (threadIdx.x == 0 && threadIdx.y == 0) {\n",
        "        atomicAdd(&(average->x), s_average[itx].x);\n",
        "        atomicAdd(&(average->y), s_average[itx].y);\n",
        "        atomicAdd(&(average->z), s_average[itx].z);\n",
        "    }\n",
        "\n",
        "    if (x < rows && y < cols) {\n",
        "        for (int i = 0; i < c; ++i) {\n",
        "            for (int j = 0; j < c; ++j) {\n",
        "                int x_offset = x + i;\n",
        "                int y_offset = y + j;\n",
        "                int offset = x_offset + y_offset * rows;\n",
        "\n",
        "                image_output[offset].x = (unsigned char)(m_average.x / m_area);\n",
        "                image_output[offset].y = (unsigned char)(m_average.y / m_area);\n",
        "                image_output[offset].z = (unsigned char)(m_average.z / m_area);\n",
        "            }\n",
        "        }\n",
        "    }\n",
        "}\n",
        "\n",
        "void checkCudaErrors(cudaError_t r) {\n",
        "    if (r != cudaSuccess) {\n",
        "        fprintf(stderr, \"CUDA Error: %s\\n\", cudaGetErrorString(r));\n",
        "        exit(EXIT_FAILURE);\n",
        "    }\n",
        "}\n",
        "\n",
        "int main() {\n",
        "    // Load image\n",
        "    Mat image = imread(\"images.jpeg\", IMREAD_COLOR);\n",
        "    if (image.empty()) {\n",
        "        printf(\"Error: Image not found.\\n\");\n",
        "        return -1;\n",
        "    }\n",
        "    int width = image.cols;\n",
        "    int height = image.rows;\n",
        "    int channels = 3; // RGB channels\n",
        "\n",
        "    // Calculate image size in bytes\n",
        "    size_t imageSize = width * height * sizeof(uchar3);\n",
        "\n",
        "    // Allocate memory on host and device\n",
        "    uchar3 *h_inputImage, *h_outputImage;\n",
        "    uchar3 *d_inputImage, *d_outputImage;\n",
        "    float3 *d_average;\n",
        "    checkCudaErrors(cudaMallocHost(&h_inputImage, imageSize));\n",
        "    checkCudaErrors(cudaMallocHost(&h_outputImage, imageSize));\n",
        "    checkCudaErrors(cudaMalloc(&d_inputImage, imageSize));\n",
        "    checkCudaErrors(cudaMalloc(&d_outputImage, imageSize));\n",
        "    checkCudaErrors(cudaMalloc(&d_average, sizeof(float3)));\n",
        "\n",
        "    // Copy input image data to host memory\n",
        "    memcpy(h_inputImage, image.data, imageSize);\n",
        "\n",
        "    // Copy input image data to device memory\n",
        "    checkCudaErrors(cudaMemcpy(d_inputImage, h_inputImage, imageSize, cudaMemcpyHostToDevice));\n",
        "\n",
        "    // Initialize block and grid dimensions\n",
        "    dim3 blockSize(MPR, MPR);\n",
        "    dim3 gridSize((width + blockSize.x - 1) / blockSize.x, (height + blockSize.y - 1) / blockSize.y);\n",
        "\n",
        "    // Invoke mosaic filter kernel\n",
        "    mosaic_filter_ccmpb<<<gridSize, blockSize, MPR_SQUARE * sizeof(float3)>>>(d_inputImage, d_outputImage, d_average, width, height, channels);\n",
        "\n",
        "    // Copy output image data from device to host\n",
        "    checkCudaErrors(cudaMemcpy(h_outputImage, d_outputImage, imageSize, cudaMemcpyDeviceToHost));\n",
        "\n",
        "    // Create output Mat object\n",
        "    Mat outputImage(height, width, CV_8UC3, h_outputImage);\n",
        "\n",
        "    // Write output image to file\n",
        "    imwrite(\"output_mosaic.jpg\", outputImage);\n",
        "\n",
        "    // Free allocated memory\n",
        "    cudaFreeHost(h_inputImage);\n",
        "    cudaFreeHost(h_outputImage);\n",
        "    cudaFree(d_inputImage);\n",
        "    cudaFree(d_outputImage);\n",
        "    cudaFree(d_average);\n",
        "\n",
        "    return 0;\n",
        "}\n"
      ],
      "metadata": {
        "colab": {
          "base_uri": "https://localhost:8080/"
        },
        "id": "gcmxxOY4fWtI",
        "outputId": "adabc25f-9733-4d40-9696-87a960f5ecc2"
      },
      "execution_count": 20,
      "outputs": [
        {
          "output_type": "stream",
          "name": "stdout",
          "text": [
            "Writing mosaic.cu\n"
          ]
        }
      ]
    },
    {
      "cell_type": "code",
      "source": [
        "!nvcc -o mosaic mosaic.cu `pkg-config --cflags --libs opencv4`"
      ],
      "metadata": {
        "id": "7RqcP_oafaGL"
      },
      "execution_count": 21,
      "outputs": []
    },
    {
      "cell_type": "code",
      "source": [
        "!./mosaic"
      ],
      "metadata": {
        "id": "3BwueI3vfuAQ"
      },
      "execution_count": 22,
      "outputs": []
    },
    {
      "cell_type": "code",
      "source": [
        "%%writefile sharpening.cu\n",
        "#include <stdio.h>\n",
        "#include <opencv2/core/core.hpp>\n",
        "#include <opencv2/imgcodecs.hpp>\n",
        "#include <opencv2/highgui/highgui.hpp>\n",
        "\n",
        "using namespace cv;\n",
        "\n",
        "__global__ void sharpeningFilter(unsigned char *srcImage, unsigned char *dstImage, unsigned int width, unsigned int height, int channel)\n",
        "{\n",
        "    int x = blockIdx.x * blockDim.x + threadIdx.x;\n",
        "    int y = blockIdx.y * blockDim.y + threadIdx.y;\n",
        "\n",
        "    float kernel[3][3] = {{-1, -1, -1}, {-1, 9, -1}, {-1, -1, -1}};\n",
        "\n",
        "    // only threads inside image will write results\n",
        "    if ((x >= 1) && (x < width - 1) && (y >= 1) && (y < height - 1))\n",
        "    {\n",
        "        for (int c = 0; c < channel; c++)\n",
        "        {\n",
        "            // Sum of pixel values\n",
        "            float sum = 0;\n",
        "            // Loop inside the filter to apply the kernel\n",
        "            for (int ky = -1; ky <= 1; ky++)\n",
        "            {\n",
        "                for (int kx = -1; kx <= 1; kx++)\n",
        "                {\n",
        "                    float fl = srcImage[((y + ky) * width + (x + kx)) * channel + c];\n",
        "                    sum += fl * kernel[ky + 1][kx + 1];\n",
        "                }\n",
        "            }\n",
        "            dstImage[(y * width + x) * channel + c] = sum;\n",
        "        }\n",
        "    }\n",
        "}\n",
        "\n",
        "void checkCudaErrors(cudaError_t r)\n",
        "{\n",
        "    if (r != cudaSuccess)\n",
        "    {\n",
        "        fprintf(stderr, \"CUDA Error: %s\\n\", cudaGetErrorString(r));\n",
        "        exit(EXIT_FAILURE);\n",
        "    }\n",
        "}\n",
        "\n",
        "int main()\n",
        "{\n",
        "    Mat image = imread(\"images.jpeg\", IMREAD_GRAYSCALE);\n",
        "    if (image.empty())\n",
        "    {\n",
        "        printf(\"Error: Image not found.\\n\");\n",
        "        return -1;\n",
        "    }\n",
        "    int width = image.cols;\n",
        "    int height = image.rows;\n",
        "    int channel = image.step / image.cols;\n",
        "    size_t imageSize = width * height * sizeof(unsigned char);\n",
        "\n",
        "    unsigned char *h_outputImage = (unsigned char *)malloc(imageSize);\n",
        "    if (h_outputImage == nullptr)\n",
        "    {\n",
        "        fprintf(stderr, \"Failed to allocate host memory\\n\");\n",
        "        return -1;\n",
        "    }\n",
        "\n",
        "    unsigned char *d_inputImage, *d_outputImage;\n",
        "    checkCudaErrors(cudaMalloc(&d_inputImage, imageSize));\n",
        "    checkCudaErrors(cudaMalloc(&d_outputImage, imageSize));\n",
        "    checkCudaErrors(cudaMemcpy(d_inputImage, image.data, imageSize, cudaMemcpyHostToDevice));\n",
        "\n",
        "    dim3 blockSize(16, 16);\n",
        "    dim3 gridSize(ceil(width / 16.0), ceil(height / 16.0));\n",
        "    sharpeningFilter<<<gridSize, blockSize>>>(d_inputImage, d_outputImage, width, height, channel);\n",
        "    checkCudaErrors(cudaMemcpy(h_outputImage, d_outputImage, imageSize, cudaMemcpyDeviceToHost));\n",
        "\n",
        "    Mat outputImage(height, width, CV_8UC1, h_outputImage);\n",
        "    imwrite(\"output_sharpened.jpeg\", outputImage);\n",
        "\n",
        "    free(h_outputImage);\n",
        "    cudaFree(d_inputImage);\n",
        "    cudaFree(d_outputImage);\n",
        "\n",
        "    return 0;\n",
        "}\n",
        "\n"
      ],
      "metadata": {
        "colab": {
          "base_uri": "https://localhost:8080/"
        },
        "id": "lXdd7u32gDpa",
        "outputId": "2943e8bd-9b75-4727-9890-e3b6bf1f2a63"
      },
      "execution_count": 40,
      "outputs": [
        {
          "output_type": "stream",
          "name": "stdout",
          "text": [
            "Overwriting sharpening.cu\n"
          ]
        }
      ]
    },
    {
      "cell_type": "code",
      "source": [
        "!nvcc -o sharpening sharpening.cu `pkg-config --cflags --libs opencv4`"
      ],
      "metadata": {
        "id": "XL7iO0aHgx-P"
      },
      "execution_count": 35,
      "outputs": []
    },
    {
      "cell_type": "code",
      "source": [
        "!./sharpening"
      ],
      "metadata": {
        "id": "o_c0Pe65hd6u"
      },
      "execution_count": 36,
      "outputs": []
    },
    {
      "cell_type": "code",
      "source": [
        "%%writefile red.cu\n",
        "#include <stdio.h>\n",
        "#include <opencv2/core/core.hpp> // Include core functionalities\n",
        "#include <opencv2/imgcodecs.hpp> // For imread and imwrite\n",
        "#include <opencv2/highgui/highgui.hpp> // For GUI functionalities, might not be necessary for this script\n",
        "\n",
        "using namespace cv; // Use the cv namespace to simplify code\n",
        "\n",
        "__global__ void redChannelManipulation(unsigned char *srcImage, unsigned char *dstImage, unsigned int width, unsigned int height)\n",
        "{\n",
        "    int x = blockIdx.x * blockDim.x + threadIdx.x;\n",
        "    int y = blockIdx.y * blockDim.y + threadIdx.y;\n",
        "\n",
        "    // only threads inside image will write results\n",
        "    if ((x >= 0) && (x < width) && (y >= 0) && (y < height))\n",
        "    {\n",
        "        // Get the red channel value\n",
        "        unsigned char red = srcImage[(y * width + x) * 3 + 2]; // BGR ordering: red channel is at index 2\n",
        "\n",
        "        // Modify the red channel value (for example, increasing its intensity)\n",
        "        // You can apply any desired manipulation here\n",
        "        red = min(255, red * 2); // Example: doubling the intensity, capped at 255\n",
        "\n",
        "        // Write the modified red channel value to the output image\n",
        "        dstImage[(y * width + x) * 3 + 2] = red; // BGR ordering: red channel is at index 2\n",
        "    }\n",
        "}\n",
        "\n",
        "void checkCudaErrors(cudaError_t r) {\n",
        "    if (r != cudaSuccess) {\n",
        "        fprintf(stderr, \"CUDA Error: %s\\n\", cudaGetErrorString(r));\n",
        "        exit(EXIT_FAILURE);\n",
        "    }\n",
        "}\n",
        "\n",
        "int main() {\n",
        "    Mat image = imread(\"images.jpeg\", IMREAD_COLOR); // Read image with color channels\n",
        "    if (image.empty()) {\n",
        "        printf(\"Error: Image not found.\\n\");\n",
        "        return -1;\n",
        "    }\n",
        "    int width = image.cols;\n",
        "    int height = image.rows;\n",
        "    size_t imageSize = width * height * 3 * sizeof(unsigned char); // 3 channels (BGR)\n",
        "\n",
        "    unsigned char *h_outputImage = (unsigned char *)malloc(imageSize);\n",
        "    if (h_outputImage == nullptr) {\n",
        "        fprintf(stderr, \"Failed to allocate host memory\\n\");\n",
        "        return -1;\n",
        "    }\n",
        "\n",
        "    unsigned char *d_inputImage, *d_outputImage;\n",
        "    checkCudaErrors(cudaMalloc(&d_inputImage, imageSize));\n",
        "    checkCudaErrors(cudaMalloc(&d_outputImage, imageSize));\n",
        "    checkCudaErrors(cudaMemcpy(d_inputImage, image.data, imageSize, cudaMemcpyHostToDevice));\n",
        "\n",
        "    dim3 blockSize(16, 16);\n",
        "    dim3 gridSize(ceil(width / 16.0), ceil(height / 16.0));\n",
        "    redChannelManipulation<<<gridSize, blockSize>>>(d_inputImage, d_outputImage, width, height);\n",
        "    checkCudaErrors(cudaMemcpy(h_outputImage, d_outputImage, imageSize, cudaMemcpyDeviceToHost));\n",
        "\n",
        "    Mat outputImage(height, width, CV_8UC3, h_outputImage); // 3 channels (BGR)\n",
        "    imwrite(\"output_red_modified.jpeg\", outputImage);\n",
        "\n",
        "    free(h_outputImage);\n",
        "    cudaFree(d_inputImage);\n",
        "    cudaFree(d_outputImage);\n",
        "\n",
        "    return 0;\n",
        "}\n"
      ],
      "metadata": {
        "colab": {
          "base_uri": "https://localhost:8080/"
        },
        "id": "5kglLPR3jLca",
        "outputId": "fce653ab-1c31-4a0f-c445-529b35aedad8"
      },
      "execution_count": 44,
      "outputs": [
        {
          "output_type": "stream",
          "name": "stdout",
          "text": [
            "Overwriting red.cu\n"
          ]
        }
      ]
    },
    {
      "cell_type": "code",
      "source": [
        "!nvcc -o red red.cu `pkg-config --cflags --libs opencv4`"
      ],
      "metadata": {
        "id": "zxjCSd0djNYU"
      },
      "execution_count": 45,
      "outputs": []
    },
    {
      "cell_type": "code",
      "source": [
        "!./red"
      ],
      "metadata": {
        "id": "8uS6pwB8jW-e"
      },
      "execution_count": 46,
      "outputs": []
    }
  ]
}